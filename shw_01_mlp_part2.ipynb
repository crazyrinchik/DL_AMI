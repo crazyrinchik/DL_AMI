{
 "cells": [
  {
   "cell_type": "markdown",
   "id": "lonely-delta",
   "metadata": {
    "id": "lonely-delta",
    "pycharm": {
     "name": "#%% md\n"
    }
   },
   "source": [
    "# Глубинное обучение 1 / Введение в глубинное обучение, ФКН ВШЭ\n",
    "\n",
    "## Домашнее задание 1. Часть 2: полносвязные нейронные сети.\n",
    "\n",
    "### Общая информация\n",
    "\n",
    "Оценка после штрафа после мягкого дедлайна вычисляется по формуле $M_{\\text{penalty}} = M_{\\text{full}} \\cdot 0.85^{t/1440}$, где $M_{\\text{full}}$ — полная оценка за работу без учета штрафа, а $t$ — время в минутах, прошедшее после мягкого дедлайна (округление до двух цифр после запятой). Таким образом, спустя первые сутки после мягкого дедлайна вы не можете получить оценку выше 8.5, а если сдать через четыре дня после мягкого дедлайна, то ваш максимум — 5.22 балла.\n",
    "\n",
    "### Оценивание и штрафы\n",
    "\n",
    "Максимально допустимая оценка за работу — 10 баллов. Сдавать задание после указанного срока сдачи нельзя.\n",
    "\n",
    "Задание выполняется самостоятельно. «Похожие» решения считаются плагиатом и все задействованные студенты (в том числе те, у кого списали) не могут получить за него больше 0 баллов. Если вы нашли решение какого-то из заданий (или его часть) в открытом источнике, необходимо указать ссылку на этот источник в отдельном блоке в конце вашей работы (скорее всего вы будете не единственным, кто это нашел, поэтому чтобы исключить подозрение в плагиате, необходима ссылка на источник).\n",
    "\n",
    "Неэффективная реализация кода может негативно отразиться на оценке. Также оценка может быть снижена за плохо читаемый код и плохо оформленные графики. Все ответы должны сопровождаться кодом или комментариями о том, как они были получены.\n",
    "\n",
    "### О задании\n",
    "\n",
    "В этой части мы будем использовать фреймворк для обучения нейронный сетей, который вы реализовали в первой половине задания. А именно, вам предстоит обучить полносвязную нейронную сеть для предсказания года выпуска песни по ее аудио-признакам. Для этого мы будем использовать [Million Songs Dataset](https://samyzaf.com/ML/song_year/song_year.html). Если по какой-то причине вы не сделали первую половину домашки, то **можете поставить все эксперименты на PyTorch**, но рекомендуется использовать ваши реализации модулей."
   ]
  },
  {
   "cell_type": "code",
   "id": "lonely-component",
   "metadata": {
    "id": "lonely-component",
    "pycharm": {
     "name": "#%%\n"
    },
    "colab": {
     "base_uri": "https://localhost:8080/",
     "height": 384
    },
    "outputId": "6215a31d-ef69-43f8-8211-aabbfce6119e",
    "ExecuteTime": {
     "end_time": "2024-11-21T08:22:54.356429Z",
     "start_time": "2024-11-21T08:22:54.351004Z"
    }
   },
   "source": [
    "import modules as mm\n",
    "import numpy as np\n",
    "import pandas as pd\n",
    "import matplotlib.pyplot as plt\n",
    "import seaborn as sns\n",
    "from tqdm.notebook import tqdm\n",
    "from IPython.display import clear_output\n",
    "\n",
    "plt.rcParams.update({'font.size': 16})\n",
    "sns.set_style('whitegrid')\n",
    "np.random.seed(0xFA1AFE1)"
   ],
   "outputs": [],
   "execution_count": 6
  },
  {
   "cell_type": "markdown",
   "id": "marine-logistics",
   "metadata": {
    "id": "marine-logistics",
    "pycharm": {
     "name": "#%% md\n"
    }
   },
   "source": [
    "Начнем с того, что скачаем и загрузим данные:"
   ]
  },
  {
   "metadata": {},
   "cell_type": "markdown",
   "source": "",
   "id": "4961f285a18f7d90"
  },
  {
   "cell_type": "code",
   "id": "bridal-archive",
   "metadata": {
    "colab": {
     "base_uri": "https://localhost:8080/"
    },
    "id": "bridal-archive",
    "outputId": "006a47d6-e4de-4bea-bd33-d647da2f9a5f",
    "pycharm": {
     "name": "#%%\n"
    },
    "ExecuteTime": {
     "end_time": "2024-11-21T08:41:31.302577Z",
     "start_time": "2024-11-21T08:30:23.082670Z"
    }
   },
   "source": "!wget -O data.txt.zip https://archive.ics.uci.edu/ml/machine-learning-databases/00203/YearPredictionMSD.txt.zip",
   "outputs": [
    {
     "name": "stdout",
     "output_type": "stream",
     "text": [
      "--2024-11-21 11:30:23--  https://archive.ics.uci.edu/ml/machine-learning-databases/00203/YearPredictionMSD.txt.zip\r\n",
      "Resolving archive.ics.uci.edu (archive.ics.uci.edu)... 128.195.10.252\r\n",
      "Connecting to archive.ics.uci.edu (archive.ics.uci.edu)|128.195.10.252|:443... connected.\r\n",
      "HTTP request sent, awaiting response... 200 OK\r\n",
      "Length: unspecified\r\n",
      "Saving to: ‘data.txt.zip’\r\n",
      "\r\n",
      "data.txt.zip            [        <=>         ]  38.18M   749KB/s    in 8m 47s  \r\n",
      "\r\n",
      "2024-11-21 11:39:12 (74.2 KB/s) - Read error at byte 40034229 (error:0A000126:SSL routines::unexpected eof while reading).Retrying.\r\n",
      "\r\n",
      "--2024-11-21 11:39:13--  (try: 2)  https://archive.ics.uci.edu/ml/machine-learning-databases/00203/YearPredictionMSD.txt.zip\r\n",
      "Connecting to archive.ics.uci.edu (archive.ics.uci.edu)|128.195.10.252|:443... connected.\r\n",
      "HTTP request sent, awaiting response... 200 OK\r\n",
      "Length: unspecified\r\n",
      "Saving to: ‘data.txt.zip’\r\n",
      "\r\n",
      "data.txt.zip            [             <=>    ] 201.24M  3.41MB/s    in 2m 17s  \r\n",
      "\r\n",
      "2024-11-21 11:41:31 (1.47 MB/s) - ‘data.txt.zip’ saved [211011981]\r\n",
      "\r\n"
     ]
    }
   ],
   "execution_count": 14
  },
  {
   "cell_type": "code",
   "id": "welsh-heavy",
   "metadata": {
    "colab": {
     "base_uri": "https://localhost:8080/",
     "height": 159
    },
    "id": "welsh-heavy",
    "outputId": "0e678aa7-6651-42fa-d55a-94b8b73f8738",
    "pycharm": {
     "name": "#%%\n"
    },
    "ExecuteTime": {
     "end_time": "2024-11-21T08:41:34.479946Z",
     "start_time": "2024-11-21T08:41:31.305563Z"
    }
   },
   "source": [
    "df = pd.read_csv('data.txt.zip', header=None)\n",
    "df"
   ],
   "outputs": [
    {
     "data": {
      "text/plain": [
       "          0         1         2         3         4         5         6   \\\n",
       "0       2001  49.94357  21.47114  73.07750   8.74861 -17.40628 -13.09905   \n",
       "1       2001  48.73215  18.42930  70.32679  12.94636 -10.32437 -24.83777   \n",
       "2       2001  50.95714  31.85602  55.81851  13.41693  -6.57898 -18.54940   \n",
       "3       2001  48.24750  -1.89837  36.29772   2.58776   0.97170 -26.21683   \n",
       "4       2001  50.97020  42.20998  67.09964   8.46791 -15.85279 -16.81409   \n",
       "...      ...       ...       ...       ...       ...       ...       ...   \n",
       "515340  2006  51.28467  45.88068  22.19582  -5.53319  -3.61835 -16.36914   \n",
       "515341  2006  49.87870  37.93125  18.65987  -3.63581 -27.75665 -18.52988   \n",
       "515342  2006  45.12852  12.65758 -38.72018   8.80882 -29.29985  -2.28706   \n",
       "515343  2006  44.16614  32.38368  -3.34971  -2.49165 -19.59278 -18.67098   \n",
       "515344  2005  51.85726  59.11655  26.39436  -5.46030 -20.69012 -19.95528   \n",
       "\n",
       "              7         8         9   ...        81         82         83  \\\n",
       "0      -25.01202 -12.23257   7.83089  ...  13.01620  -54.40548   58.99367   \n",
       "1        8.76630  -0.92019  18.76548  ...   5.66812  -19.68073   33.04964   \n",
       "2       -3.27872  -2.35035  16.07017  ...   3.03800   26.05866  -50.92779   \n",
       "3        5.05097 -10.34124   3.55005  ...  34.57337 -171.70734  -16.96705   \n",
       "4      -12.48207  -9.37636  12.63699  ...   9.92661  -55.95724   64.92712   \n",
       "...          ...       ...       ...  ...       ...        ...        ...   \n",
       "515340   2.12652   5.18160  -8.66890  ...   4.81440   -3.75991  -30.92584   \n",
       "515341   7.76108   3.56109  -2.50351  ...  32.38589  -32.75535  -61.05473   \n",
       "515342 -18.40424 -22.28726  -4.52429  ... -18.73598  -71.15954 -123.98443   \n",
       "515343   8.78428   4.02039 -12.01230  ...  67.16763  282.77624   -4.63677   \n",
       "515344  -6.72771   2.29590  10.31018  ... -11.50511  -69.18291   60.58456   \n",
       "\n",
       "               84        85        86         87        88         89  \\\n",
       "0        15.37344   1.11144 -23.08793   68.40795  -1.82223  -27.46348   \n",
       "1        42.87836  -9.90378 -32.22788   70.49388  12.04941   58.43453   \n",
       "2        10.93792  -0.07568  43.20130 -115.00698  -0.05859   39.67068   \n",
       "3       -46.67617 -12.51516  82.58061  -72.08993   9.90558  199.62971   \n",
       "4       -17.72522  -1.49237  -7.50035   51.76631   7.88713   55.66926   \n",
       "...           ...       ...       ...        ...       ...        ...   \n",
       "515340   26.33968  -5.03390  21.86037 -142.29410   3.42901  -41.14721   \n",
       "515341   56.65182  15.29965  95.88193  -10.63242  12.96552   92.11633   \n",
       "515342  121.26989  10.89629  34.62409 -248.61020  -6.07171   53.96319   \n",
       "515343  144.00125  21.62652 -29.72432   71.47198  20.32240   14.83107   \n",
       "515344   28.64599  -4.39620 -64.56491  -45.61012  -5.51512   32.35602   \n",
       "\n",
       "              90  \n",
       "0        2.26327  \n",
       "1       26.92061  \n",
       "2       -0.66345  \n",
       "3       18.85382  \n",
       "4       28.74903  \n",
       "...          ...  \n",
       "515340 -15.46052  \n",
       "515341  10.88815  \n",
       "515342  -8.09364  \n",
       "515343  39.74909  \n",
       "515344  12.17352  \n",
       "\n",
       "[515345 rows x 91 columns]"
      ],
      "text/html": [
       "<div>\n",
       "<style scoped>\n",
       "    .dataframe tbody tr th:only-of-type {\n",
       "        vertical-align: middle;\n",
       "    }\n",
       "\n",
       "    .dataframe tbody tr th {\n",
       "        vertical-align: top;\n",
       "    }\n",
       "\n",
       "    .dataframe thead th {\n",
       "        text-align: right;\n",
       "    }\n",
       "</style>\n",
       "<table border=\"1\" class=\"dataframe\">\n",
       "  <thead>\n",
       "    <tr style=\"text-align: right;\">\n",
       "      <th></th>\n",
       "      <th>0</th>\n",
       "      <th>1</th>\n",
       "      <th>2</th>\n",
       "      <th>3</th>\n",
       "      <th>4</th>\n",
       "      <th>5</th>\n",
       "      <th>6</th>\n",
       "      <th>7</th>\n",
       "      <th>8</th>\n",
       "      <th>9</th>\n",
       "      <th>...</th>\n",
       "      <th>81</th>\n",
       "      <th>82</th>\n",
       "      <th>83</th>\n",
       "      <th>84</th>\n",
       "      <th>85</th>\n",
       "      <th>86</th>\n",
       "      <th>87</th>\n",
       "      <th>88</th>\n",
       "      <th>89</th>\n",
       "      <th>90</th>\n",
       "    </tr>\n",
       "  </thead>\n",
       "  <tbody>\n",
       "    <tr>\n",
       "      <th>0</th>\n",
       "      <td>2001</td>\n",
       "      <td>49.94357</td>\n",
       "      <td>21.47114</td>\n",
       "      <td>73.07750</td>\n",
       "      <td>8.74861</td>\n",
       "      <td>-17.40628</td>\n",
       "      <td>-13.09905</td>\n",
       "      <td>-25.01202</td>\n",
       "      <td>-12.23257</td>\n",
       "      <td>7.83089</td>\n",
       "      <td>...</td>\n",
       "      <td>13.01620</td>\n",
       "      <td>-54.40548</td>\n",
       "      <td>58.99367</td>\n",
       "      <td>15.37344</td>\n",
       "      <td>1.11144</td>\n",
       "      <td>-23.08793</td>\n",
       "      <td>68.40795</td>\n",
       "      <td>-1.82223</td>\n",
       "      <td>-27.46348</td>\n",
       "      <td>2.26327</td>\n",
       "    </tr>\n",
       "    <tr>\n",
       "      <th>1</th>\n",
       "      <td>2001</td>\n",
       "      <td>48.73215</td>\n",
       "      <td>18.42930</td>\n",
       "      <td>70.32679</td>\n",
       "      <td>12.94636</td>\n",
       "      <td>-10.32437</td>\n",
       "      <td>-24.83777</td>\n",
       "      <td>8.76630</td>\n",
       "      <td>-0.92019</td>\n",
       "      <td>18.76548</td>\n",
       "      <td>...</td>\n",
       "      <td>5.66812</td>\n",
       "      <td>-19.68073</td>\n",
       "      <td>33.04964</td>\n",
       "      <td>42.87836</td>\n",
       "      <td>-9.90378</td>\n",
       "      <td>-32.22788</td>\n",
       "      <td>70.49388</td>\n",
       "      <td>12.04941</td>\n",
       "      <td>58.43453</td>\n",
       "      <td>26.92061</td>\n",
       "    </tr>\n",
       "    <tr>\n",
       "      <th>2</th>\n",
       "      <td>2001</td>\n",
       "      <td>50.95714</td>\n",
       "      <td>31.85602</td>\n",
       "      <td>55.81851</td>\n",
       "      <td>13.41693</td>\n",
       "      <td>-6.57898</td>\n",
       "      <td>-18.54940</td>\n",
       "      <td>-3.27872</td>\n",
       "      <td>-2.35035</td>\n",
       "      <td>16.07017</td>\n",
       "      <td>...</td>\n",
       "      <td>3.03800</td>\n",
       "      <td>26.05866</td>\n",
       "      <td>-50.92779</td>\n",
       "      <td>10.93792</td>\n",
       "      <td>-0.07568</td>\n",
       "      <td>43.20130</td>\n",
       "      <td>-115.00698</td>\n",
       "      <td>-0.05859</td>\n",
       "      <td>39.67068</td>\n",
       "      <td>-0.66345</td>\n",
       "    </tr>\n",
       "    <tr>\n",
       "      <th>3</th>\n",
       "      <td>2001</td>\n",
       "      <td>48.24750</td>\n",
       "      <td>-1.89837</td>\n",
       "      <td>36.29772</td>\n",
       "      <td>2.58776</td>\n",
       "      <td>0.97170</td>\n",
       "      <td>-26.21683</td>\n",
       "      <td>5.05097</td>\n",
       "      <td>-10.34124</td>\n",
       "      <td>3.55005</td>\n",
       "      <td>...</td>\n",
       "      <td>34.57337</td>\n",
       "      <td>-171.70734</td>\n",
       "      <td>-16.96705</td>\n",
       "      <td>-46.67617</td>\n",
       "      <td>-12.51516</td>\n",
       "      <td>82.58061</td>\n",
       "      <td>-72.08993</td>\n",
       "      <td>9.90558</td>\n",
       "      <td>199.62971</td>\n",
       "      <td>18.85382</td>\n",
       "    </tr>\n",
       "    <tr>\n",
       "      <th>4</th>\n",
       "      <td>2001</td>\n",
       "      <td>50.97020</td>\n",
       "      <td>42.20998</td>\n",
       "      <td>67.09964</td>\n",
       "      <td>8.46791</td>\n",
       "      <td>-15.85279</td>\n",
       "      <td>-16.81409</td>\n",
       "      <td>-12.48207</td>\n",
       "      <td>-9.37636</td>\n",
       "      <td>12.63699</td>\n",
       "      <td>...</td>\n",
       "      <td>9.92661</td>\n",
       "      <td>-55.95724</td>\n",
       "      <td>64.92712</td>\n",
       "      <td>-17.72522</td>\n",
       "      <td>-1.49237</td>\n",
       "      <td>-7.50035</td>\n",
       "      <td>51.76631</td>\n",
       "      <td>7.88713</td>\n",
       "      <td>55.66926</td>\n",
       "      <td>28.74903</td>\n",
       "    </tr>\n",
       "    <tr>\n",
       "      <th>...</th>\n",
       "      <td>...</td>\n",
       "      <td>...</td>\n",
       "      <td>...</td>\n",
       "      <td>...</td>\n",
       "      <td>...</td>\n",
       "      <td>...</td>\n",
       "      <td>...</td>\n",
       "      <td>...</td>\n",
       "      <td>...</td>\n",
       "      <td>...</td>\n",
       "      <td>...</td>\n",
       "      <td>...</td>\n",
       "      <td>...</td>\n",
       "      <td>...</td>\n",
       "      <td>...</td>\n",
       "      <td>...</td>\n",
       "      <td>...</td>\n",
       "      <td>...</td>\n",
       "      <td>...</td>\n",
       "      <td>...</td>\n",
       "      <td>...</td>\n",
       "    </tr>\n",
       "    <tr>\n",
       "      <th>515340</th>\n",
       "      <td>2006</td>\n",
       "      <td>51.28467</td>\n",
       "      <td>45.88068</td>\n",
       "      <td>22.19582</td>\n",
       "      <td>-5.53319</td>\n",
       "      <td>-3.61835</td>\n",
       "      <td>-16.36914</td>\n",
       "      <td>2.12652</td>\n",
       "      <td>5.18160</td>\n",
       "      <td>-8.66890</td>\n",
       "      <td>...</td>\n",
       "      <td>4.81440</td>\n",
       "      <td>-3.75991</td>\n",
       "      <td>-30.92584</td>\n",
       "      <td>26.33968</td>\n",
       "      <td>-5.03390</td>\n",
       "      <td>21.86037</td>\n",
       "      <td>-142.29410</td>\n",
       "      <td>3.42901</td>\n",
       "      <td>-41.14721</td>\n",
       "      <td>-15.46052</td>\n",
       "    </tr>\n",
       "    <tr>\n",
       "      <th>515341</th>\n",
       "      <td>2006</td>\n",
       "      <td>49.87870</td>\n",
       "      <td>37.93125</td>\n",
       "      <td>18.65987</td>\n",
       "      <td>-3.63581</td>\n",
       "      <td>-27.75665</td>\n",
       "      <td>-18.52988</td>\n",
       "      <td>7.76108</td>\n",
       "      <td>3.56109</td>\n",
       "      <td>-2.50351</td>\n",
       "      <td>...</td>\n",
       "      <td>32.38589</td>\n",
       "      <td>-32.75535</td>\n",
       "      <td>-61.05473</td>\n",
       "      <td>56.65182</td>\n",
       "      <td>15.29965</td>\n",
       "      <td>95.88193</td>\n",
       "      <td>-10.63242</td>\n",
       "      <td>12.96552</td>\n",
       "      <td>92.11633</td>\n",
       "      <td>10.88815</td>\n",
       "    </tr>\n",
       "    <tr>\n",
       "      <th>515342</th>\n",
       "      <td>2006</td>\n",
       "      <td>45.12852</td>\n",
       "      <td>12.65758</td>\n",
       "      <td>-38.72018</td>\n",
       "      <td>8.80882</td>\n",
       "      <td>-29.29985</td>\n",
       "      <td>-2.28706</td>\n",
       "      <td>-18.40424</td>\n",
       "      <td>-22.28726</td>\n",
       "      <td>-4.52429</td>\n",
       "      <td>...</td>\n",
       "      <td>-18.73598</td>\n",
       "      <td>-71.15954</td>\n",
       "      <td>-123.98443</td>\n",
       "      <td>121.26989</td>\n",
       "      <td>10.89629</td>\n",
       "      <td>34.62409</td>\n",
       "      <td>-248.61020</td>\n",
       "      <td>-6.07171</td>\n",
       "      <td>53.96319</td>\n",
       "      <td>-8.09364</td>\n",
       "    </tr>\n",
       "    <tr>\n",
       "      <th>515343</th>\n",
       "      <td>2006</td>\n",
       "      <td>44.16614</td>\n",
       "      <td>32.38368</td>\n",
       "      <td>-3.34971</td>\n",
       "      <td>-2.49165</td>\n",
       "      <td>-19.59278</td>\n",
       "      <td>-18.67098</td>\n",
       "      <td>8.78428</td>\n",
       "      <td>4.02039</td>\n",
       "      <td>-12.01230</td>\n",
       "      <td>...</td>\n",
       "      <td>67.16763</td>\n",
       "      <td>282.77624</td>\n",
       "      <td>-4.63677</td>\n",
       "      <td>144.00125</td>\n",
       "      <td>21.62652</td>\n",
       "      <td>-29.72432</td>\n",
       "      <td>71.47198</td>\n",
       "      <td>20.32240</td>\n",
       "      <td>14.83107</td>\n",
       "      <td>39.74909</td>\n",
       "    </tr>\n",
       "    <tr>\n",
       "      <th>515344</th>\n",
       "      <td>2005</td>\n",
       "      <td>51.85726</td>\n",
       "      <td>59.11655</td>\n",
       "      <td>26.39436</td>\n",
       "      <td>-5.46030</td>\n",
       "      <td>-20.69012</td>\n",
       "      <td>-19.95528</td>\n",
       "      <td>-6.72771</td>\n",
       "      <td>2.29590</td>\n",
       "      <td>10.31018</td>\n",
       "      <td>...</td>\n",
       "      <td>-11.50511</td>\n",
       "      <td>-69.18291</td>\n",
       "      <td>60.58456</td>\n",
       "      <td>28.64599</td>\n",
       "      <td>-4.39620</td>\n",
       "      <td>-64.56491</td>\n",
       "      <td>-45.61012</td>\n",
       "      <td>-5.51512</td>\n",
       "      <td>32.35602</td>\n",
       "      <td>12.17352</td>\n",
       "    </tr>\n",
       "  </tbody>\n",
       "</table>\n",
       "<p>515345 rows × 91 columns</p>\n",
       "</div>"
      ]
     },
     "execution_count": 15,
     "metadata": {},
     "output_type": "execute_result"
    }
   ],
   "execution_count": 15
  },
  {
   "cell_type": "markdown",
   "id": "single-hearts",
   "metadata": {
    "id": "single-hearts",
    "pycharm": {
     "name": "#%% md\n"
    }
   },
   "source": [
    "Посмотрим на статистики по данным."
   ]
  },
  {
   "cell_type": "code",
   "id": "interior-bacteria",
   "metadata": {
    "id": "interior-bacteria",
    "pycharm": {
     "name": "#%%\n"
    },
    "ExecuteTime": {
     "end_time": "2024-11-21T08:50:05.731793Z",
     "start_time": "2024-11-21T08:50:03.922114Z"
    }
   },
   "source": [
    "df.describe()"
   ],
   "outputs": [
    {
     "data": {
      "text/plain": [
       "                  0              1              2              3   \\\n",
       "count  515345.000000  515345.000000  515345.000000  515345.000000   \n",
       "mean     1998.397082      43.387126       1.289554       8.658347   \n",
       "std        10.931046       6.067558      51.580351      35.268585   \n",
       "min      1922.000000       1.749000    -337.092500    -301.005060   \n",
       "25%      1994.000000      39.954690     -26.059520     -11.462710   \n",
       "50%      2002.000000      44.258500       8.417850      10.476320   \n",
       "75%      2006.000000      47.833890      36.124010      29.764820   \n",
       "max      2011.000000      61.970140     384.065730     322.851430   \n",
       "\n",
       "                  4              5              6              7   \\\n",
       "count  515345.000000  515345.000000  515345.000000  515345.000000   \n",
       "mean        1.164124      -6.553601      -9.521975      -2.391089   \n",
       "std        16.322790      22.860785      12.857751      14.571873   \n",
       "min      -154.183580    -181.953370     -81.794290    -188.214000   \n",
       "25%        -8.487500     -20.666450     -18.440990     -10.780600   \n",
       "50%        -0.652840      -6.007770     -11.188390      -2.046670   \n",
       "75%         8.787540       7.741870      -2.388960       6.508580   \n",
       "max       335.771820     262.068870     166.236890     172.402680   \n",
       "\n",
       "                  8              9   ...             81             82  \\\n",
       "count  515345.000000  515345.000000  ...  515345.000000  515345.000000   \n",
       "mean       -1.793236       3.727876  ...      15.755406     -73.461500   \n",
       "std         7.963827      10.582861  ...      32.099635     175.618889   \n",
       "min       -72.503850    -126.479040  ...    -437.722030   -4402.376440   \n",
       "25%        -6.468420      -2.293660  ...      -1.812650    -139.555160   \n",
       "50%        -1.736450       3.822310  ...       9.171850     -53.090060   \n",
       "75%         2.913450       9.961820  ...      26.274480      13.478730   \n",
       "max       126.741270     146.297950  ...     840.973380    4469.454870   \n",
       "\n",
       "                  83             84             85             86  \\\n",
       "count  515345.000000  515345.000000  515345.000000  515345.000000   \n",
       "mean       41.542422      37.934119       0.315751      17.669213   \n",
       "std       122.228799      95.050631      16.161764     114.427905   \n",
       "min     -1810.689190   -3098.350310    -341.789120   -3168.924570   \n",
       "25%       -20.986900      -4.669540      -6.781590     -31.580610   \n",
       "50%        28.791060      33.623630       0.820840      15.598470   \n",
       "75%        89.661770      77.785800       8.470990      67.794960   \n",
       "max      3210.701700    1734.079690     260.544900    3662.065650   \n",
       "\n",
       "                  87             88             89             90  \n",
       "count  515345.000000  515345.000000  515345.000000  515345.000000  \n",
       "mean      -26.315336       4.458641      20.035136       1.329105  \n",
       "std       173.977336      13.346557     185.558247      22.088576  \n",
       "min     -4319.992320    -236.039260   -7458.378150    -381.424430  \n",
       "25%      -101.530300      -2.566090     -59.509270      -8.820210  \n",
       "50%       -21.204120       3.117640       7.759730       0.053050  \n",
       "75%        52.389330       9.967740      86.351610       9.679520  \n",
       "max      2833.608950     463.419500    7393.398440     677.899630  \n",
       "\n",
       "[8 rows x 91 columns]"
      ],
      "text/html": [
       "<div>\n",
       "<style scoped>\n",
       "    .dataframe tbody tr th:only-of-type {\n",
       "        vertical-align: middle;\n",
       "    }\n",
       "\n",
       "    .dataframe tbody tr th {\n",
       "        vertical-align: top;\n",
       "    }\n",
       "\n",
       "    .dataframe thead th {\n",
       "        text-align: right;\n",
       "    }\n",
       "</style>\n",
       "<table border=\"1\" class=\"dataframe\">\n",
       "  <thead>\n",
       "    <tr style=\"text-align: right;\">\n",
       "      <th></th>\n",
       "      <th>0</th>\n",
       "      <th>1</th>\n",
       "      <th>2</th>\n",
       "      <th>3</th>\n",
       "      <th>4</th>\n",
       "      <th>5</th>\n",
       "      <th>6</th>\n",
       "      <th>7</th>\n",
       "      <th>8</th>\n",
       "      <th>9</th>\n",
       "      <th>...</th>\n",
       "      <th>81</th>\n",
       "      <th>82</th>\n",
       "      <th>83</th>\n",
       "      <th>84</th>\n",
       "      <th>85</th>\n",
       "      <th>86</th>\n",
       "      <th>87</th>\n",
       "      <th>88</th>\n",
       "      <th>89</th>\n",
       "      <th>90</th>\n",
       "    </tr>\n",
       "  </thead>\n",
       "  <tbody>\n",
       "    <tr>\n",
       "      <th>count</th>\n",
       "      <td>515345.000000</td>\n",
       "      <td>515345.000000</td>\n",
       "      <td>515345.000000</td>\n",
       "      <td>515345.000000</td>\n",
       "      <td>515345.000000</td>\n",
       "      <td>515345.000000</td>\n",
       "      <td>515345.000000</td>\n",
       "      <td>515345.000000</td>\n",
       "      <td>515345.000000</td>\n",
       "      <td>515345.000000</td>\n",
       "      <td>...</td>\n",
       "      <td>515345.000000</td>\n",
       "      <td>515345.000000</td>\n",
       "      <td>515345.000000</td>\n",
       "      <td>515345.000000</td>\n",
       "      <td>515345.000000</td>\n",
       "      <td>515345.000000</td>\n",
       "      <td>515345.000000</td>\n",
       "      <td>515345.000000</td>\n",
       "      <td>515345.000000</td>\n",
       "      <td>515345.000000</td>\n",
       "    </tr>\n",
       "    <tr>\n",
       "      <th>mean</th>\n",
       "      <td>1998.397082</td>\n",
       "      <td>43.387126</td>\n",
       "      <td>1.289554</td>\n",
       "      <td>8.658347</td>\n",
       "      <td>1.164124</td>\n",
       "      <td>-6.553601</td>\n",
       "      <td>-9.521975</td>\n",
       "      <td>-2.391089</td>\n",
       "      <td>-1.793236</td>\n",
       "      <td>3.727876</td>\n",
       "      <td>...</td>\n",
       "      <td>15.755406</td>\n",
       "      <td>-73.461500</td>\n",
       "      <td>41.542422</td>\n",
       "      <td>37.934119</td>\n",
       "      <td>0.315751</td>\n",
       "      <td>17.669213</td>\n",
       "      <td>-26.315336</td>\n",
       "      <td>4.458641</td>\n",
       "      <td>20.035136</td>\n",
       "      <td>1.329105</td>\n",
       "    </tr>\n",
       "    <tr>\n",
       "      <th>std</th>\n",
       "      <td>10.931046</td>\n",
       "      <td>6.067558</td>\n",
       "      <td>51.580351</td>\n",
       "      <td>35.268585</td>\n",
       "      <td>16.322790</td>\n",
       "      <td>22.860785</td>\n",
       "      <td>12.857751</td>\n",
       "      <td>14.571873</td>\n",
       "      <td>7.963827</td>\n",
       "      <td>10.582861</td>\n",
       "      <td>...</td>\n",
       "      <td>32.099635</td>\n",
       "      <td>175.618889</td>\n",
       "      <td>122.228799</td>\n",
       "      <td>95.050631</td>\n",
       "      <td>16.161764</td>\n",
       "      <td>114.427905</td>\n",
       "      <td>173.977336</td>\n",
       "      <td>13.346557</td>\n",
       "      <td>185.558247</td>\n",
       "      <td>22.088576</td>\n",
       "    </tr>\n",
       "    <tr>\n",
       "      <th>min</th>\n",
       "      <td>1922.000000</td>\n",
       "      <td>1.749000</td>\n",
       "      <td>-337.092500</td>\n",
       "      <td>-301.005060</td>\n",
       "      <td>-154.183580</td>\n",
       "      <td>-181.953370</td>\n",
       "      <td>-81.794290</td>\n",
       "      <td>-188.214000</td>\n",
       "      <td>-72.503850</td>\n",
       "      <td>-126.479040</td>\n",
       "      <td>...</td>\n",
       "      <td>-437.722030</td>\n",
       "      <td>-4402.376440</td>\n",
       "      <td>-1810.689190</td>\n",
       "      <td>-3098.350310</td>\n",
       "      <td>-341.789120</td>\n",
       "      <td>-3168.924570</td>\n",
       "      <td>-4319.992320</td>\n",
       "      <td>-236.039260</td>\n",
       "      <td>-7458.378150</td>\n",
       "      <td>-381.424430</td>\n",
       "    </tr>\n",
       "    <tr>\n",
       "      <th>25%</th>\n",
       "      <td>1994.000000</td>\n",
       "      <td>39.954690</td>\n",
       "      <td>-26.059520</td>\n",
       "      <td>-11.462710</td>\n",
       "      <td>-8.487500</td>\n",
       "      <td>-20.666450</td>\n",
       "      <td>-18.440990</td>\n",
       "      <td>-10.780600</td>\n",
       "      <td>-6.468420</td>\n",
       "      <td>-2.293660</td>\n",
       "      <td>...</td>\n",
       "      <td>-1.812650</td>\n",
       "      <td>-139.555160</td>\n",
       "      <td>-20.986900</td>\n",
       "      <td>-4.669540</td>\n",
       "      <td>-6.781590</td>\n",
       "      <td>-31.580610</td>\n",
       "      <td>-101.530300</td>\n",
       "      <td>-2.566090</td>\n",
       "      <td>-59.509270</td>\n",
       "      <td>-8.820210</td>\n",
       "    </tr>\n",
       "    <tr>\n",
       "      <th>50%</th>\n",
       "      <td>2002.000000</td>\n",
       "      <td>44.258500</td>\n",
       "      <td>8.417850</td>\n",
       "      <td>10.476320</td>\n",
       "      <td>-0.652840</td>\n",
       "      <td>-6.007770</td>\n",
       "      <td>-11.188390</td>\n",
       "      <td>-2.046670</td>\n",
       "      <td>-1.736450</td>\n",
       "      <td>3.822310</td>\n",
       "      <td>...</td>\n",
       "      <td>9.171850</td>\n",
       "      <td>-53.090060</td>\n",
       "      <td>28.791060</td>\n",
       "      <td>33.623630</td>\n",
       "      <td>0.820840</td>\n",
       "      <td>15.598470</td>\n",
       "      <td>-21.204120</td>\n",
       "      <td>3.117640</td>\n",
       "      <td>7.759730</td>\n",
       "      <td>0.053050</td>\n",
       "    </tr>\n",
       "    <tr>\n",
       "      <th>75%</th>\n",
       "      <td>2006.000000</td>\n",
       "      <td>47.833890</td>\n",
       "      <td>36.124010</td>\n",
       "      <td>29.764820</td>\n",
       "      <td>8.787540</td>\n",
       "      <td>7.741870</td>\n",
       "      <td>-2.388960</td>\n",
       "      <td>6.508580</td>\n",
       "      <td>2.913450</td>\n",
       "      <td>9.961820</td>\n",
       "      <td>...</td>\n",
       "      <td>26.274480</td>\n",
       "      <td>13.478730</td>\n",
       "      <td>89.661770</td>\n",
       "      <td>77.785800</td>\n",
       "      <td>8.470990</td>\n",
       "      <td>67.794960</td>\n",
       "      <td>52.389330</td>\n",
       "      <td>9.967740</td>\n",
       "      <td>86.351610</td>\n",
       "      <td>9.679520</td>\n",
       "    </tr>\n",
       "    <tr>\n",
       "      <th>max</th>\n",
       "      <td>2011.000000</td>\n",
       "      <td>61.970140</td>\n",
       "      <td>384.065730</td>\n",
       "      <td>322.851430</td>\n",
       "      <td>335.771820</td>\n",
       "      <td>262.068870</td>\n",
       "      <td>166.236890</td>\n",
       "      <td>172.402680</td>\n",
       "      <td>126.741270</td>\n",
       "      <td>146.297950</td>\n",
       "      <td>...</td>\n",
       "      <td>840.973380</td>\n",
       "      <td>4469.454870</td>\n",
       "      <td>3210.701700</td>\n",
       "      <td>1734.079690</td>\n",
       "      <td>260.544900</td>\n",
       "      <td>3662.065650</td>\n",
       "      <td>2833.608950</td>\n",
       "      <td>463.419500</td>\n",
       "      <td>7393.398440</td>\n",
       "      <td>677.899630</td>\n",
       "    </tr>\n",
       "  </tbody>\n",
       "</table>\n",
       "<p>8 rows × 91 columns</p>\n",
       "</div>"
      ]
     },
     "execution_count": 16,
     "metadata": {},
     "output_type": "execute_result"
    }
   ],
   "execution_count": 16
  },
  {
   "cell_type": "markdown",
   "id": "broad-writer",
   "metadata": {
    "id": "broad-writer",
    "pycharm": {
     "name": "#%% md\n"
    }
   },
   "source": [
    "Целевая переменная, год выпуска песни, записана в первом столбце. Посмотрим на ее распределение."
   ]
  },
  {
   "cell_type": "code",
   "id": "exposed-small",
   "metadata": {
    "id": "exposed-small",
    "pycharm": {
     "name": "#%%\n"
    },
    "ExecuteTime": {
     "end_time": "2024-11-21T08:50:06.004561Z",
     "start_time": "2024-11-21T08:50:05.736781Z"
    }
   },
   "source": [
    "plt.hist(df.iloc[:, 0], bins=20)\n",
    "plt.xlabel('year')\n",
    "plt.ylabel('count')\n",
    "plt.show()\n",
    "print(f'Range: {df.iloc[:, 0].min()} - {df.iloc[:, 0].max()}')\n",
    "print(f'Unique values: {np.unique(df.iloc[:, 0]).size}')"
   ],
   "outputs": [
    {
     "data": {
      "text/plain": [
       "<Figure size 640x480 with 1 Axes>"
      ],
      "image/png": "[encoded data removed]"
     },
     "metadata": {},
     "output_type": "display_data"
    },
    {
     "name": "stdout",
     "output_type": "stream",
     "text": [
      "Range: 1922 - 2011\n",
      "Unique values: 89\n"
     ]
    }
   ],
   "execution_count": 17
  },
  {
   "cell_type": "markdown",
   "id": "noted-rebecca",
   "metadata": {
    "id": "noted-rebecca",
    "pycharm": {
     "name": "#%% md\n"
    }
   },
   "source": [
    "Разобьем данные на обучение и тест (не меняйте здесь ничего, чтобы сплит был одинаковым у всех)."
   ]
  },
  {
   "cell_type": "code",
   "id": "presidential-wisconsin",
   "metadata": {
    "id": "presidential-wisconsin",
    "pycharm": {
     "name": "#%%\n"
    },
    "ExecuteTime": {
     "end_time": "2024-11-21T08:50:06.073225Z",
     "start_time": "2024-11-21T08:50:06.007789Z"
    }
   },
   "source": [
    "X = df.iloc[:, 1:].values\n",
    "y = df.iloc[:, 0].values\n",
    "\n",
    "train_size = int(0.75 * X.shape[0])\n",
    "X_train = X[:train_size, :]\n",
    "y_train = y[:train_size]\n",
    "X_test = X[train_size:, :]\n",
    "y_test = y[train_size:]\n",
    "X_train.shape, X_test.shape"
   ],
   "outputs": [
    {
     "data": {
      "text/plain": [
       "((386508, 90), (128837, 90))"
      ]
     },
     "execution_count": 18,
     "metadata": {},
     "output_type": "execute_result"
    }
   ],
   "execution_count": 18
  },
  {
   "cell_type": "markdown",
   "id": "adaptive-quantity",
   "metadata": {
    "id": "adaptive-quantity",
    "pycharm": {
     "name": "#%% md\n"
    }
   },
   "source": [
    "**Задание 0 (0 баллов, но при невыполнении максимальная оценка за всю работу &mdash; 0 баллов).** Мы будем использовать MSE как метрику качества. Прежде чем обучать нейронные сети, нам нужно проверить несколько простых бейзлайнов, чтобы было с чем сравнить более сложные алгоритмы. Для этого бучите `Ridge` регрессию из `sklearn`. Кроме того, посчитайте качество при наилучшем константном прогнозе."
   ]
  },
  {
   "cell_type": "code",
   "id": "mexican-fireplace",
   "metadata": {
    "id": "mexican-fireplace",
    "pycharm": {
     "name": "#%%\n"
    },
    "ExecuteTime": {
     "end_time": "2024-11-21T08:52:25.522637Z",
     "start_time": "2024-11-21T08:52:15.854423Z"
    }
   },
   "source": [
    "from sklearn.linear_model import Ridge\n",
    "from sklearn.metrics import mean_squared_error\n",
    "\n",
    "model = Ridge()\n",
    "model.fit(X_train, y_train)\n",
    "y_pred = model.predict(X_test)\n",
    "test_mse = mean_squared_error(y_test, y_pred)\n",
    "const_mse = mean_squared_error(np.full_like(y_test, y_test.mean()), y_test)\n",
    "\n",
    "print(f\"Test MSE = {test_mse:.6f}\")\n",
    "print(f\"Test MSE constant = {const_mse:.6f}\")"
   ],
   "outputs": [
    {
     "name": "stdout",
     "output_type": "stream",
     "text": [
      "Test MSE = 89.749664\n",
      "Test MSE constant = 117.831912\n"
     ]
    }
   ],
   "execution_count": 21
  },
  {
   "cell_type": "markdown",
   "id": "suspected-arbitration",
   "metadata": {
    "id": "suspected-arbitration",
    "pycharm": {
     "name": "#%% md\n"
    }
   },
   "source": [
    "Теперь приступим к экспериментам с нейросетями. Для начала отделим от данных валидацию:"
   ]
  },
  {
   "cell_type": "code",
   "id": "offensive-publication",
   "metadata": {
    "id": "offensive-publication",
    "pycharm": {
     "name": "#%%\n"
    },
    "ExecuteTime": {
     "end_time": "2024-11-21T08:52:27.239135Z",
     "start_time": "2024-11-21T08:52:27.047878Z"
    }
   },
   "source": [
    "from sklearn.model_selection import train_test_split\n",
    "\n",
    "X_train, X_val, y_train, y_val = train_test_split(X_train, y_train, test_size = 0.25, random_state = 0xE2E4)\n",
    "X_train.shape, X_val.shape"
   ],
   "outputs": [
    {
     "data": {
      "text/plain": [
       "((289881, 90), (96627, 90))"
      ]
     },
     "execution_count": 22,
     "metadata": {},
     "output_type": "execute_result"
    }
   ],
   "execution_count": 22
  },
  {
   "cell_type": "markdown",
   "id": "modern-platform",
   "metadata": {
    "id": "modern-platform",
    "pycharm": {
     "name": "#%% md\n"
    }
   },
   "source": [
    "## Глава I. Заводим нейронную сеть (5 баллов)\n",
    "\n",
    "**Задание 1.1 (0.5 баллов).** Заполните пропуски в функции `train_and_validate`. Она поможет нам запускать эксперименты."
   ]
  },
  {
   "cell_type": "code",
   "id": "cooperative-bedroom",
   "metadata": {
    "id": "cooperative-bedroom",
    "pycharm": {
     "name": "#%%\n"
    },
    "ExecuteTime": {
     "end_time": "2024-11-21T08:52:32.278876Z",
     "start_time": "2024-11-21T08:52:32.273550Z"
    }
   },
   "source": [
    "def plot_losses(train_losses, train_metrics, val_losses, val_metrics):\n",
    "    \"\"\"\n",
    "    Plot losses and metrics while training\n",
    "      - train_losses: sequence of train losses\n",
    "      - train_metrics: sequence of train MSE values\n",
    "      - val_losses: sequence of validation losses\n",
    "      - val_metrics: sequence of validation MSE values\n",
    "    \"\"\"\n",
    "    clear_output()\n",
    "    fig, axs = plt.subplots(1, 2, figsize=(15, 5))\n",
    "    axs[0].plot(range(1, len(train_losses) + 1), train_losses, label='train')\n",
    "    axs[0].plot(range(1, len(val_losses) + 1), val_losses, label='val')\n",
    "    axs[1].plot(range(1, len(train_metrics) + 1), train_metrics, label='train')\n",
    "    axs[1].plot(range(1, len(val_metrics) + 1), val_metrics, label='val')\n",
    "\n",
    "    if max(train_losses) / min(train_losses) > 10:\n",
    "        axs[0].set_yscale('log')\n",
    "\n",
    "    if max(train_metrics) / min(train_metrics) > 10:\n",
    "        axs[0].set_yscale('log')\n",
    "\n",
    "    for ax in axs:\n",
    "        ax.set_xlabel('epoch')\n",
    "        ax.legend()\n",
    "\n",
    "    axs[0].set_ylabel('loss')\n",
    "    axs[1].set_ylabel('MSE')\n",
    "    plt.show()\n",
    "\n",
    "\n",
    "def train_and_validate(model, optimizer, criterion, metric, train_loader, val_loader,\n",
    "                       num_epochs, verbose=True):\n",
    "    \"\"\"\n",
    "    Train and validate neural network\n",
    "      - model: neural network (mm.Module) to train\n",
    "      - optimizer: optimizer (mm.Optimizer) chained to a model\n",
    "      - criterion: loss function class (mm.Criterion)\n",
    "      - metrics: function to measure MSE taking neural networks predictions\n",
    "                 and ground truth labels\n",
    "      - train_loader: mm.DataLoader with train set\n",
    "      - val_loader: mm.DataLoader with validation set\n",
    "      - num_epochs: number of epochs to train\n",
    "      - verbose: whether to plot metrics during training\n",
    "    Returns:\n",
    "      - train_mse: training MSE over the last epoch\n",
    "      - val_mse: validation MSE after the last epoch\n",
    "    \"\"\"\n",
    "    train_losses, val_losses = [], []\n",
    "    train_metrics, val_metrics = [], []\n",
    "\n",
    "    for epoch in range(1, num_epochs + 1):\n",
    "        model.train()\n",
    "        running_loss, running_metric = 0, 0\n",
    "        pbar = tqdm(train_loader, desc = f'Training {epoch}/{num_epochs}') \\\n",
    "            if verbose else train_loader\n",
    "\n",
    "        for X_batch, y_batch in pbar:\n",
    "\n",
    "            optimizer.zero_grad()\n",
    "\n",
    "            predictions = model(X_batch)\n",
    "            loss = criterion(predictions, y_batch)\n",
    "\n",
    "            model.backward(X_batch, criterion.backward(predictions, y_batch))\n",
    "            optimizer.step()\n",
    "\n",
    "            metric_val = metric(predictions, y_batch)\n",
    "            running_loss += loss * X_batch.shape[0]\n",
    "            running_metric += metric_val * X_batch.shape[0]\n",
    "            if verbose:\n",
    "                pbar.set_postfix({'loss': loss, 'MSE': metric_val})\n",
    "\n",
    "        train_losses += [running_loss / train_loader.num_samples()]\n",
    "        train_metrics += [running_metric / train_loader.num_samples()]\n",
    "\n",
    "        model.eval()\n",
    "        running_loss, running_metric = 0, 0\n",
    "        pbar = tqdm(val_loader, desc=f'Validating {epoch}/{num_epochs}') \\\n",
    "            if verbose else val_loader\n",
    "\n",
    "        for X_batch, y_batch in pbar:\n",
    "            predictions = model(X_batch)\n",
    "            loss = criterion(predictions, y_batch)\n",
    "\n",
    "            metric_value = metric(predictions, y_batch)\n",
    "            running_loss += loss * X_batch.shape[0]\n",
    "            running_metric += metric_value * X_batch.shape[0]\n",
    "            if verbose:\n",
    "                pbar.set_postfix({'loss': loss, 'MSE': metric_value})\n",
    "\n",
    "        val_losses += [running_loss / val_loader.num_samples()]\n",
    "        val_metrics += [running_metric / val_loader.num_samples()]\n",
    "\n",
    "        if verbose:\n",
    "            plot_losses(train_losses, train_metrics, val_losses, val_metrics)\n",
    "\n",
    "    if verbose:\n",
    "        print(f'Validation MSE: {val_metrics[-1]:.3f}')\n",
    "\n",
    "    return train_metrics[-1], val_metrics[-1]"
   ],
   "outputs": [],
   "execution_count": 23
  },
  {
   "cell_type": "markdown",
   "id": "adjacent-grace",
   "metadata": {
    "id": "adjacent-grace",
    "pycharm": {
     "name": "#%% md\n"
    }
   },
   "source": [
    "**Задание 1.2 (0.75 балла).** Попробуем обучить нашу первую нейронную сеть. Здесь целевая переменная дискретная &mdash; это год выпуска песни. Поэтому будем учить сеть на классификацию.\n",
    "\n",
    "- В качестве архитектуры сети возьмите два линейных слоя с активацией ReLU между ними c числом скрытых нейронов, равным 128.\n",
    "- Используйте SGD с `lr=1e-3`.\n",
    "- Возьмите размер мини-батча около 32-64, примерно 3-4 эпох обучения должно быть достаточно.\n",
    "- Также преобразуйте целевую переменную так, чтобы ее значения принимали значения от $0$ до $C-1$, где $C$ &mdash; число классов (лучше передайте преобразованное значение в DataLoader, исходное нам еще пригодится)\n",
    "- В качестве параметра `metric` в `train_and_validate` передайте lambda-выражение, которое считает MSE по выходу нейронной сети и целевой переменной. В случае классификации предсказывается класс с наибольшей вероятностью (или, что то же самое, с наибольшим значением логита)."
   ]
  },
  {
   "cell_type": "code",
   "id": "manufactured-beverage",
   "metadata": {
    "id": "manufactured-beverage",
    "pycharm": {
     "name": "#%%\n"
    },
    "colab": {
     "base_uri": "https://localhost:8080/",
     "height": 159
    },
    "outputId": "ee9ac2bd-e770-42ac-d4b1-230e00dbd0a9",
    "ExecuteTime": {
     "end_time": "2024-11-21T08:52:41.453870Z",
     "start_time": "2024-11-21T08:52:41.440173Z"
    }
   },
   "source": [
    "# Сначала смотрю на годы\n",
    "np.unique(df.iloc[:, 0])"
   ],
   "outputs": [
    {
     "data": {
      "text/plain": [
       "array([1922, 1924, 1925, 1926, 1927, 1928, 1929, 1930, 1931, 1932, 1933,\n",
       "       1934, 1935, 1936, 1937, 1938, 1939, 1940, 1941, 1942, 1943, 1944,\n",
       "       1945, 1946, 1947, 1948, 1949, 1950, 1951, 1952, 1953, 1954, 1955,\n",
       "       1956, 1957, 1958, 1959, 1960, 1961, 1962, 1963, 1964, 1965, 1966,\n",
       "       1967, 1968, 1969, 1970, 1971, 1972, 1973, 1974, 1975, 1976, 1977,\n",
       "       1978, 1979, 1980, 1981, 1982, 1983, 1984, 1985, 1986, 1987, 1988,\n",
       "       1989, 1990, 1991, 1992, 1993, 1994, 1995, 1996, 1997, 1998, 1999,\n",
       "       2000, 2001, 2002, 2003, 2004, 2005, 2006, 2007, 2008, 2009, 2010,\n",
       "       2011])"
      ]
     },
     "execution_count": 24,
     "metadata": {},
     "output_type": "execute_result"
    }
   ],
   "execution_count": 24
  },
  {
   "cell_type": "code",
   "source": [
    "# Для обучения модели чуть меняю данные\n",
    "def transform(y):\n",
    "    tmp = y.copy()\n",
    "    tmp[tmp != 1922] -= 1923\n",
    "    tmp[tmp == 1922] = 0\n",
    "    return tmp\n",
    "\n",
    "tr_y_train = transform(y_train)\n",
    "tr_y_val = transform(y_val)"
   ],
   "metadata": {
    "id": "ImJNrLDVSvmy",
    "ExecuteTime": {
     "end_time": "2024-11-21T08:52:45.945443Z",
     "start_time": "2024-11-21T08:52:45.935462Z"
    }
   },
   "id": "ImJNrLDVSvmy",
   "outputs": [],
   "execution_count": 25
  },
  {
   "cell_type": "code",
   "source": [
    "model = mm.Sequential(\n",
    "    mm.Linear(in_features = 90, out_features = 128),\n",
    "    mm.ReLU(),\n",
    "    mm.Linear(in_features = 128, out_features = 89),\n",
    "    mm.LogSoftmax()\n",
    ")\n",
    "\n",
    "optimizer = mm.SGD(module = model, lr = 1e-3)\n",
    "criterion = mm.CrossEntropyLoss()\n",
    "\n",
    "train_loader = mm.DataLoader(X_train, tr_y_train.reshape(-1, 1), batch_size = 32, shuffle = True)\n",
    "val_loader = mm.DataLoader(X_val, tr_y_val.reshape(-1, 1), batch_size = 32, shuffle = False)\n",
    "\n",
    "metric_mse = lambda a, b: mean_squared_error(np.argmax(a, axis = 1), b)\n",
    "epochs = 5"
   ],
   "metadata": {
    "id": "2RbH3b-7TEwt",
    "ExecuteTime": {
     "end_time": "2024-11-21T08:52:55.188796Z",
     "start_time": "2024-11-21T08:52:55.183914Z"
    }
   },
   "id": "2RbH3b-7TEwt",
   "outputs": [],
   "execution_count": 26
  },
  {
   "cell_type": "code",
   "source": [
    "train_and_validate(model, optimizer, criterion, metric_mse, train_loader, val_loader, epochs, verbose = True)"
   ],
   "metadata": {
    "id": "3YJJu4DhTX8L"
   },
   "id": "3YJJu4DhTX8L",
   "execution_count": 27,
   "outputs": [
    {
     "data": {
      "text/plain": [
       "<Figure size 1500x500 with 2 Axes>"
      ],
      "image/png": "[encoded data removed]"
     },
     "metadata": {},
     "output_type": "display_data"
    },
    {
     "name": "stdout",
     "output_type": "stream",
     "text": [
      "Validation MSE: 195.116\n"
     ]
    },
    {
     "data": {
      "text/plain": [
       "(193.305828943601, 195.11555776335805)"
      ]
     },
     "execution_count": 27,
     "metadata": {},
     "output_type": "execute_result"
    }
   ]
  },
  {
   "cell_type": "markdown",
   "id": "postal-kingdom",
   "metadata": {
    "id": "postal-kingdom",
    "pycharm": {
     "name": "#%% md\n"
    }
   },
   "source": [
    "**Задание 1.3 (0.5 балла).** Прокомментируйте ваши наблюдения. Удалось ли побить бейзлайн? Как вы думаете, хорошая ли идея учить классификатор для этой задачи? Почему?\n",
    "\n",
    "**Ответ:** Бейзлайн не побит :(\n",
    "\n",
    "  Вообще все выглядит как задача регрессии, тк для классификации обычно подходят дискретные данные, а у нас они непрерывные (год выпуска). Кроме того, може тбыть дисбаланс классов по годам, да и не совсем понятна разница между двумя соседними годами, если только не было грандиозных изменений в индустрии."
   ]
  },
  {
   "cell_type": "markdown",
   "id": "gorgeous-italy",
   "metadata": {
    "id": "gorgeous-italy",
    "pycharm": {
     "name": "#%% md\n"
    }
   },
   "source": [
    "**Задание 1.4 (0.75 балла).** Теперь попробуем решать задачу как регрессию. Обучите нейронную сеть на MSE.\n",
    "\n",
    "- Используйте такие же гиперпараметры обучения.\n",
    "- Когда передаете целевую переменную в DataLoader, сделайте reshape в (-1, 1).\n",
    "- Не забудьте изменить lambda-выражение, которые вы передаете в `train_and_validate`.\n",
    "- Если что-то пойдет не так, можете попробовать меньшие значения `lr`."
   ]
  },
  {
   "cell_type": "code",
   "id": "contrary-justice",
   "metadata": {
    "id": "contrary-justice",
    "pycharm": {
     "name": "#%%\n"
    },
    "ExecuteTime": {
     "end_time": "2024-11-21T08:59:43.029200Z",
     "start_time": "2024-11-21T08:59:43.022070Z"
    }
   },
   "source": [
    "model = mm.Sequential(\n",
    "    mm.Linear(in_features = 90, out_features = 128),\n",
    "    mm.ReLU(),\n",
    "    mm.Linear(in_features = 128, out_features = 1),\n",
    ")\n",
    "\n",
    "optimizer = mm.SGD(module = model, lr = 1e-15)\n",
    "criterion = mm.MSELoss()\n",
    "\n",
    "train_loader = mm.DataLoader(X_train, y_train.reshape(-1, 1), batch_size = 32, shuffle = True)\n",
    "val_loader = mm.DataLoader(X_val, y_val.reshape(-1, 1), batch_size = 32, shuffle = False)\n",
    "\n",
    "metric_mse = lambda a, b: mean_squared_error(a, b)\n",
    "epochs = 5"
   ],
   "outputs": [],
   "execution_count": 28
  },
  {
   "cell_type": "code",
   "source": [
    "train_and_validate(model, optimizer, criterion, metric_mse, train_loader, val_loader, epochs, verbose = True)"
   ],
   "metadata": {
    "id": "zdy5aqU6VERY"
   },
   "id": "zdy5aqU6VERY",
   "execution_count": 29,
   "outputs": [
    {
     "data": {
      "text/plain": [
       "<Figure size 1500x500 with 2 Axes>"
      ],
      "image/png": "[encoded data removed]"
     },
     "metadata": {},
     "output_type": "display_data"
    },
    {
     "data": {
      "text/plain": [
       "Training 5/5:   0%|          | 0/9059 [00:00<?, ?it/s]"
      ],
      "application/vnd.jupyter.widget-view+json": {
       "version_major": 2,
       "version_minor": 0,
       "model_id": "7100c0aba4e942e3a9c16ef10a34fff7"
      }
     },
     "metadata": {},
     "output_type": "display_data"
    },
    {
     "data": {
      "text/plain": [
       "Validating 5/5:   0%|          | 0/3020 [00:00<?, ?it/s]"
      ],
      "application/vnd.jupyter.widget-view+json": {
       "version_major": 2,
       "version_minor": 0,
       "model_id": "f3e458d8ce52446bb16add41febbbb89"
      }
     },
     "metadata": {},
     "output_type": "display_data"
    },
    {
     "name": "stderr",
     "output_type": "stream",
     "text": [
      "IOPub message rate exceeded.\n",
      "The Jupyter server will temporarily stop sending output\n",
      "to the client in order to avoid crashing it.\n",
      "To change this limit, set the config variable\n",
      "`--ServerApp.iopub_msg_rate_limit`.\n",
      "\n",
      "Current values:\n",
      "ServerApp.iopub_msg_rate_limit=1000.0 (msgs/sec)\n",
      "ServerApp.rate_limit_window=3.0 (secs)\n",
      "\n"
     ]
    }
   ]
  },
  {
   "cell_type": "code",
   "source": [
    "df.describe()"
   ],
   "metadata": {
    "id": "uHzvh8fyVTcl",
    "ExecuteTime": {
     "end_time": "2024-11-21T09:00:47.803041Z",
     "start_time": "2024-11-21T09:00:46.348784Z"
    }
   },
   "id": "uHzvh8fyVTcl",
   "outputs": [
    {
     "data": {
      "text/plain": [
       "                  0              1              2              3   \\\n",
       "count  515345.000000  515345.000000  515345.000000  515345.000000   \n",
       "mean     1998.397082      43.387126       1.289554       8.658347   \n",
       "std        10.931046       6.067558      51.580351      35.268585   \n",
       "min      1922.000000       1.749000    -337.092500    -301.005060   \n",
       "25%      1994.000000      39.954690     -26.059520     -11.462710   \n",
       "50%      2002.000000      44.258500       8.417850      10.476320   \n",
       "75%      2006.000000      47.833890      36.124010      29.764820   \n",
       "max      2011.000000      61.970140     384.065730     322.851430   \n",
       "\n",
       "                  4              5              6              7   \\\n",
       "count  515345.000000  515345.000000  515345.000000  515345.000000   \n",
       "mean        1.164124      -6.553601      -9.521975      -2.391089   \n",
       "std        16.322790      22.860785      12.857751      14.571873   \n",
       "min      -154.183580    -181.953370     -81.794290    -188.214000   \n",
       "25%        -8.487500     -20.666450     -18.440990     -10.780600   \n",
       "50%        -0.652840      -6.007770     -11.188390      -2.046670   \n",
       "75%         8.787540       7.741870      -2.388960       6.508580   \n",
       "max       335.771820     262.068870     166.236890     172.402680   \n",
       "\n",
       "                  8              9   ...             81             82  \\\n",
       "count  515345.000000  515345.000000  ...  515345.000000  515345.000000   \n",
       "mean       -1.793236       3.727876  ...      15.755406     -73.461500   \n",
       "std         7.963827      10.582861  ...      32.099635     175.618889   \n",
       "min       -72.503850    -126.479040  ...    -437.722030   -4402.376440   \n",
       "25%        -6.468420      -2.293660  ...      -1.812650    -139.555160   \n",
       "50%        -1.736450       3.822310  ...       9.171850     -53.090060   \n",
       "75%         2.913450       9.961820  ...      26.274480      13.478730   \n",
       "max       126.741270     146.297950  ...     840.973380    4469.454870   \n",
       "\n",
       "                  83             84             85             86  \\\n",
       "count  515345.000000  515345.000000  515345.000000  515345.000000   \n",
       "mean       41.542422      37.934119       0.315751      17.669213   \n",
       "std       122.228799      95.050631      16.161764     114.427905   \n",
       "min     -1810.689190   -3098.350310    -341.789120   -3168.924570   \n",
       "25%       -20.986900      -4.669540      -6.781590     -31.580610   \n",
       "50%        28.791060      33.623630       0.820840      15.598470   \n",
       "75%        89.661770      77.785800       8.470990      67.794960   \n",
       "max      3210.701700    1734.079690     260.544900    3662.065650   \n",
       "\n",
       "                  87             88             89             90  \n",
       "count  515345.000000  515345.000000  515345.000000  515345.000000  \n",
       "mean      -26.315336       4.458641      20.035136       1.329105  \n",
       "std       173.977336      13.346557     185.558247      22.088576  \n",
       "min     -4319.992320    -236.039260   -7458.378150    -381.424430  \n",
       "25%      -101.530300      -2.566090     -59.509270      -8.820210  \n",
       "50%       -21.204120       3.117640       7.759730       0.053050  \n",
       "75%        52.389330       9.967740      86.351610       9.679520  \n",
       "max      2833.608950     463.419500    7393.398440     677.899630  \n",
       "\n",
       "[8 rows x 91 columns]"
      ],
      "text/html": [
       "<div>\n",
       "<style scoped>\n",
       "    .dataframe tbody tr th:only-of-type {\n",
       "        vertical-align: middle;\n",
       "    }\n",
       "\n",
       "    .dataframe tbody tr th {\n",
       "        vertical-align: top;\n",
       "    }\n",
       "\n",
       "    .dataframe thead th {\n",
       "        text-align: right;\n",
       "    }\n",
       "</style>\n",
       "<table border=\"1\" class=\"dataframe\">\n",
       "  <thead>\n",
       "    <tr style=\"text-align: right;\">\n",
       "      <th></th>\n",
       "      <th>0</th>\n",
       "      <th>1</th>\n",
       "      <th>2</th>\n",
       "      <th>3</th>\n",
       "      <th>4</th>\n",
       "      <th>5</th>\n",
       "      <th>6</th>\n",
       "      <th>7</th>\n",
       "      <th>8</th>\n",
       "      <th>9</th>\n",
       "      <th>...</th>\n",
       "      <th>81</th>\n",
       "      <th>82</th>\n",
       "      <th>83</th>\n",
       "      <th>84</th>\n",
       "      <th>85</th>\n",
       "      <th>86</th>\n",
       "      <th>87</th>\n",
       "      <th>88</th>\n",
       "      <th>89</th>\n",
       "      <th>90</th>\n",
       "    </tr>\n",
       "  </thead>\n",
       "  <tbody>\n",
       "    <tr>\n",
       "      <th>count</th>\n",
       "      <td>515345.000000</td>\n",
       "      <td>515345.000000</td>\n",
       "      <td>515345.000000</td>\n",
       "      <td>515345.000000</td>\n",
       "      <td>515345.000000</td>\n",
       "      <td>515345.000000</td>\n",
       "      <td>515345.000000</td>\n",
       "      <td>515345.000000</td>\n",
       "      <td>515345.000000</td>\n",
       "      <td>515345.000000</td>\n",
       "      <td>...</td>\n",
       "      <td>515345.000000</td>\n",
       "      <td>515345.000000</td>\n",
       "      <td>515345.000000</td>\n",
       "      <td>515345.000000</td>\n",
       "      <td>515345.000000</td>\n",
       "      <td>515345.000000</td>\n",
       "      <td>515345.000000</td>\n",
       "      <td>515345.000000</td>\n",
       "      <td>515345.000000</td>\n",
       "      <td>515345.000000</td>\n",
       "    </tr>\n",
       "    <tr>\n",
       "      <th>mean</th>\n",
       "      <td>1998.397082</td>\n",
       "      <td>43.387126</td>\n",
       "      <td>1.289554</td>\n",
       "      <td>8.658347</td>\n",
       "      <td>1.164124</td>\n",
       "      <td>-6.553601</td>\n",
       "      <td>-9.521975</td>\n",
       "      <td>-2.391089</td>\n",
       "      <td>-1.793236</td>\n",
       "      <td>3.727876</td>\n",
       "      <td>...</td>\n",
       "      <td>15.755406</td>\n",
       "      <td>-73.461500</td>\n",
       "      <td>41.542422</td>\n",
       "      <td>37.934119</td>\n",
       "      <td>0.315751</td>\n",
       "      <td>17.669213</td>\n",
       "      <td>-26.315336</td>\n",
       "      <td>4.458641</td>\n",
       "      <td>20.035136</td>\n",
       "      <td>1.329105</td>\n",
       "    </tr>\n",
       "    <tr>\n",
       "      <th>std</th>\n",
       "      <td>10.931046</td>\n",
       "      <td>6.067558</td>\n",
       "      <td>51.580351</td>\n",
       "      <td>35.268585</td>\n",
       "      <td>16.322790</td>\n",
       "      <td>22.860785</td>\n",
       "      <td>12.857751</td>\n",
       "      <td>14.571873</td>\n",
       "      <td>7.963827</td>\n",
       "      <td>10.582861</td>\n",
       "      <td>...</td>\n",
       "      <td>32.099635</td>\n",
       "      <td>175.618889</td>\n",
       "      <td>122.228799</td>\n",
       "      <td>95.050631</td>\n",
       "      <td>16.161764</td>\n",
       "      <td>114.427905</td>\n",
       "      <td>173.977336</td>\n",
       "      <td>13.346557</td>\n",
       "      <td>185.558247</td>\n",
       "      <td>22.088576</td>\n",
       "    </tr>\n",
       "    <tr>\n",
       "      <th>min</th>\n",
       "      <td>1922.000000</td>\n",
       "      <td>1.749000</td>\n",
       "      <td>-337.092500</td>\n",
       "      <td>-301.005060</td>\n",
       "      <td>-154.183580</td>\n",
       "      <td>-181.953370</td>\n",
       "      <td>-81.794290</td>\n",
       "      <td>-188.214000</td>\n",
       "      <td>-72.503850</td>\n",
       "      <td>-126.479040</td>\n",
       "      <td>...</td>\n",
       "      <td>-437.722030</td>\n",
       "      <td>-4402.376440</td>\n",
       "      <td>-1810.689190</td>\n",
       "      <td>-3098.350310</td>\n",
       "      <td>-341.789120</td>\n",
       "      <td>-3168.924570</td>\n",
       "      <td>-4319.992320</td>\n",
       "      <td>-236.039260</td>\n",
       "      <td>-7458.378150</td>\n",
       "      <td>-381.424430</td>\n",
       "    </tr>\n",
       "    <tr>\n",
       "      <th>25%</th>\n",
       "      <td>1994.000000</td>\n",
       "      <td>39.954690</td>\n",
       "      <td>-26.059520</td>\n",
       "      <td>-11.462710</td>\n",
       "      <td>-8.487500</td>\n",
       "      <td>-20.666450</td>\n",
       "      <td>-18.440990</td>\n",
       "      <td>-10.780600</td>\n",
       "      <td>-6.468420</td>\n",
       "      <td>-2.293660</td>\n",
       "      <td>...</td>\n",
       "      <td>-1.812650</td>\n",
       "      <td>-139.555160</td>\n",
       "      <td>-20.986900</td>\n",
       "      <td>-4.669540</td>\n",
       "      <td>-6.781590</td>\n",
       "      <td>-31.580610</td>\n",
       "      <td>-101.530300</td>\n",
       "      <td>-2.566090</td>\n",
       "      <td>-59.509270</td>\n",
       "      <td>-8.820210</td>\n",
       "    </tr>\n",
       "    <tr>\n",
       "      <th>50%</th>\n",
       "      <td>2002.000000</td>\n",
       "      <td>44.258500</td>\n",
       "      <td>8.417850</td>\n",
       "      <td>10.476320</td>\n",
       "      <td>-0.652840</td>\n",
       "      <td>-6.007770</td>\n",
       "      <td>-11.188390</td>\n",
       "      <td>-2.046670</td>\n",
       "      <td>-1.736450</td>\n",
       "      <td>3.822310</td>\n",
       "      <td>...</td>\n",
       "      <td>9.171850</td>\n",
       "      <td>-53.090060</td>\n",
       "      <td>28.791060</td>\n",
       "      <td>33.623630</td>\n",
       "      <td>0.820840</td>\n",
       "      <td>15.598470</td>\n",
       "      <td>-21.204120</td>\n",
       "      <td>3.117640</td>\n",
       "      <td>7.759730</td>\n",
       "      <td>0.053050</td>\n",
       "    </tr>\n",
       "    <tr>\n",
       "      <th>75%</th>\n",
       "      <td>2006.000000</td>\n",
       "      <td>47.833890</td>\n",
       "      <td>36.124010</td>\n",
       "      <td>29.764820</td>\n",
       "      <td>8.787540</td>\n",
       "      <td>7.741870</td>\n",
       "      <td>-2.388960</td>\n",
       "      <td>6.508580</td>\n",
       "      <td>2.913450</td>\n",
       "      <td>9.961820</td>\n",
       "      <td>...</td>\n",
       "      <td>26.274480</td>\n",
       "      <td>13.478730</td>\n",
       "      <td>89.661770</td>\n",
       "      <td>77.785800</td>\n",
       "      <td>8.470990</td>\n",
       "      <td>67.794960</td>\n",
       "      <td>52.389330</td>\n",
       "      <td>9.967740</td>\n",
       "      <td>86.351610</td>\n",
       "      <td>9.679520</td>\n",
       "    </tr>\n",
       "    <tr>\n",
       "      <th>max</th>\n",
       "      <td>2011.000000</td>\n",
       "      <td>61.970140</td>\n",
       "      <td>384.065730</td>\n",
       "      <td>322.851430</td>\n",
       "      <td>335.771820</td>\n",
       "      <td>262.068870</td>\n",
       "      <td>166.236890</td>\n",
       "      <td>172.402680</td>\n",
       "      <td>126.741270</td>\n",
       "      <td>146.297950</td>\n",
       "      <td>...</td>\n",
       "      <td>840.973380</td>\n",
       "      <td>4469.454870</td>\n",
       "      <td>3210.701700</td>\n",
       "      <td>1734.079690</td>\n",
       "      <td>260.544900</td>\n",
       "      <td>3662.065650</td>\n",
       "      <td>2833.608950</td>\n",
       "      <td>463.419500</td>\n",
       "      <td>7393.398440</td>\n",
       "      <td>677.899630</td>\n",
       "    </tr>\n",
       "  </tbody>\n",
       "</table>\n",
       "<p>8 rows × 91 columns</p>\n",
       "</div>"
      ]
     },
     "execution_count": 30,
     "metadata": {},
     "output_type": "execute_result"
    }
   ],
   "execution_count": 30
  },
  {
   "cell_type": "markdown",
   "id": "nonprofit-passenger",
   "metadata": {
    "id": "nonprofit-passenger",
    "pycharm": {
     "name": "#%% md\n"
    }
   },
   "source": [
    "**Задание 1.5 (0.5 балла).** Получилось ли у вас стабилизировать обучение? Помогли ли меньшие значения `lr`? Стало ли лучше от замены классификации на регрессию? Как вы думаете, почему так происходит? В качестве подсказки можете посмотреть на распределение целевой переменной и магнитуду значений признаков.\n",
    "\n",
    "**Ответ:** Не получилось, даже совсем маленький lr не помог. Вероятно влияет тот факт, что песни сильно неравномерно распределены по годам."
   ]
  },
  {
   "cell_type": "markdown",
   "id": "tested-cleaners",
   "metadata": {
    "id": "tested-cleaners",
    "pycharm": {
     "name": "#%% md\n"
    }
   },
   "source": [
    "**Задание 1.6 (0.75 балла).** Начнем с того, что попробуем отнормировать целевую переменную. Для этого воспользуемся min-max нормализацией, чтобы целевая переменная принимала значения от 0 до 1. Реализуйте функции `normalize` и `denormalize`, которые, соответственно, нормируют целевую переменную и применяют обратное преобразование. Минимум и максимум оцените по обучающей выборке (то есть эти константы должны быть фиксированными и не зависеть от передаваемой выборки)."
   ]
  },
  {
   "cell_type": "code",
   "id": "downtown-stake",
   "metadata": {
    "id": "downtown-stake",
    "pycharm": {
     "name": "#%%\n"
    },
    "ExecuteTime": {
     "end_time": "2024-11-21T09:03:12.053839Z",
     "start_time": "2024-11-21T09:03:12.051454Z"
    }
   },
   "source": [
    "min_ = np.min(y_train)\n",
    "diff_ = np.max(y_train) - min_\n",
    "\n",
    "def normalize(sample):\n",
    "    \"\"\"\n",
    "    Min-max normalization to convert sample to [0, 1] range\n",
    "    \"\"\"\n",
    "    tmp_min = np.min(y_train)\n",
    "    tmp = np.max(y_train) - tmp_min\n",
    "    return (sample - tmp_min) / tmp\n",
    "\n",
    "def denormalize(sample):\n",
    "    \"\"\"\n",
    "    Denormalize sample from [0, 1] to initial range\n",
    "    \"\"\"\n",
    "    tmp_min = np.min(y_train)\n",
    "    tmp = np.max(y_train) - tmp_min\n",
    "    return tmp * sample + tmp_min"
   ],
   "outputs": [],
   "execution_count": 31
  },
  {
   "cell_type": "markdown",
   "id": "official-booking",
   "metadata": {
    "id": "official-booking",
    "pycharm": {
     "name": "#%% md\n"
    }
   },
   "source": [
    "Теперь повторите эксперимент из **задания 1.4**, обучаясь на нормированной целевой переменной. Сделаем также еще одно изменение: добавим сигмоидную активацию после последнего линейного слоя сети. Таким образом мы гарантируем, что нейронная сеть предсказывает числа из промежутка $[0, 1]$. Использование активации - довольно распространенный прием, когда мы хотим получить числа из определенного диапазона значений."
   ]
  },
  {
   "cell_type": "code",
   "id": "olive-brick",
   "metadata": {
    "id": "olive-brick",
    "pycharm": {
     "name": "#%%\n"
    },
    "ExecuteTime": {
     "end_time": "2024-11-21T09:03:13.955004Z",
     "start_time": "2024-11-21T09:03:13.946236Z"
    }
   },
   "source": [
    "model = mm.Sequential(\n",
    "    mm.Linear(in_features=90, out_features=128),\n",
    "    mm.ReLU(),\n",
    "    mm.Linear(in_features=128, out_features=1),\n",
    "    mm.Sigmoid()\n",
    ")\n",
    "optimizer = mm.SGD(module=model, lr=1e-3)\n",
    "criterion = mm.MSELoss()\n",
    "\n",
    "train_loader = mm.DataLoader(X_train, normalize(y_train).reshape(-1, 1), batch_size = 32, shuffle = True)\n",
    "val_loader = mm.DataLoader(X_val, normalize(y_val).reshape(-1, 1), batch_size = 32, shuffle = False)\n",
    "\n",
    "metric_mse = lambda a, b: mean_squared_error(denormalize(a), denormalize(b))\n",
    "epochs = 5"
   ],
   "outputs": [],
   "execution_count": 32
  },
  {
   "cell_type": "code",
   "source": [
    "train_and_validate(model, optimizer, criterion, metric_mse, train_loader, val_loader, epochs, verbose = True)"
   ],
   "metadata": {
    "id": "5rw1LBOuYtEh"
   },
   "id": "5rw1LBOuYtEh",
   "execution_count": 33,
   "outputs": [
    {
     "data": {
      "text/plain": [
       "<Figure size 1500x500 with 2 Axes>"
      ],
      "image/png": "[encoded data removed]"
     },
     "metadata": {},
     "output_type": "display_data"
    },
    {
     "name": "stdout",
     "output_type": "stream",
     "text": [
      "Validation MSE: 280.065\n"
     ]
    },
    {
     "data": {
      "text/plain": [
       "(279.2989886125722, 280.06462795730744)"
      ]
     },
     "execution_count": 33,
     "metadata": {},
     "output_type": "execute_result"
    }
   ]
  },
  {
   "cell_type": "markdown",
   "id": "twenty-pulse",
   "metadata": {
    "id": "twenty-pulse",
    "pycharm": {
     "name": "#%% md\n"
    }
   },
   "source": [
    "**Задание 1.7 (0.5 балла).** Сравните результаты этого эксперимента с предыдущим запуском.\n",
    "\n",
    "**Ответ:** Ошибка существенно лучше (меньше)"
   ]
  },
  {
   "cell_type": "markdown",
   "id": "colonial-slovakia",
   "metadata": {
    "id": "colonial-slovakia",
    "pycharm": {
     "name": "#%% md\n"
    }
   },
   "source": [
    "**Задание 1.8 (0.75 балла).** На этот раз попробуем отнормировать не только целевую переменную, но и сами данные, которые подаются сети на вход. Для них будем использовать нормализацию через среднее и стандартное отклонение. Преобразуйте данные и повторите прошлый эксперимент. Скорее всего, имеет смысл увеличить число эпох обучения."
   ]
  },
  {
   "cell_type": "code",
   "id": "prospective-disabled",
   "metadata": {
    "id": "prospective-disabled",
    "pycharm": {
     "name": "#%%\n"
    },
    "ExecuteTime": {
     "end_time": "2024-11-21T09:06:31.147452Z",
     "start_time": "2024-11-21T09:06:30.957021Z"
    }
   },
   "source": [
    "from sklearn.preprocessing import StandardScaler\n",
    "\n",
    "scaler = StandardScaler()\n",
    "\n",
    "model = mm.Sequential(\n",
    "    mm.Linear(in_features=90, out_features=128),\n",
    "    mm.ReLU(),\n",
    "    mm.Linear(in_features=128, out_features=1),\n",
    "    mm.Sigmoid()\n",
    ")\n",
    "\n",
    "optimizer = mm.SGD(module=model, lr=1e-1)\n",
    "criterion = mm.MSELoss()\n",
    "\n",
    "train_loader = mm.DataLoader(scaler.fit_transform(X_train), normalize(y_train).reshape(-1, 1), batch_size = 32, shuffle = True)\n",
    "val_loader = mm.DataLoader(scaler.fit_transform(X_val), normalize(y_val).reshape(-1, 1), batch_size = 32, shuffle = False)\n",
    "\n",
    "metric_mse = lambda a, b: mean_squared_error(denormalize(a), denormalize(b))\n",
    "epochs = 8"
   ],
   "outputs": [],
   "execution_count": 34
  },
  {
   "cell_type": "code",
   "source": [
    "train_and_validate(model, optimizer, criterion, metric_mse, train_loader, val_loader, epochs, verbose = True)"
   ],
   "metadata": {
    "id": "EGRIPm4-ZLoU"
   },
   "id": "EGRIPm4-ZLoU",
   "execution_count": 35,
   "outputs": [
    {
     "data": {
      "text/plain": [
       "<Figure size 1500x500 with 2 Axes>"
      ],
      "image/png": "[encoded data removed]"
     },
     "metadata": {},
     "output_type": "display_data"
    },
    {
     "name": "stdout",
     "output_type": "stream",
     "text": [
      "Validation MSE: 79.910\n"
     ]
    },
    {
     "data": {
      "text/plain": [
       "(77.6262070466444, 79.90976994850304)"
      ]
     },
     "execution_count": 35,
     "metadata": {},
     "output_type": "execute_result"
    }
   ]
  },
  {
   "cell_type": "markdown",
   "id": "opponent-decision",
   "metadata": {
    "id": "opponent-decision",
    "pycharm": {
     "name": "#%% md\n"
    }
   },
   "source": [
    "Если вы все сделали правильно, то у вас должно было получиться качество, сравнимое с `Ridge` регрессией.\n",
    "\n",
    "**Мораль:** как видите, нам пришлось сделать очень много хитрых телодвижений, чтобы нейронная сеть работала хотя бы так же, как и простая линейная модель. Здесь, конечно, показан совсем экстремальный случай, когда без нормализации данных нейронная сеть просто не учится. Как правило, в реальности завести нейронную сеть из коробки не очень сложно, но вот заставить ее работать на полную &mdash; куда более трудоемкая задача. Написание пайплайнов обучения нейросетевых моделей требует большой аккуратности, а дебаг часто превращается в угадайку. К счастью, очень часто на помощь приходит интуиция, и мы надеемся, что вы сможете выработать ее в течение нашего курса. Начнем с двух советов, которые стоит принять на вооружение:\n",
    "\n",
    "- Обязательно начинаем любые эксперименты с бейзлайнов: без них мы бы не поняли, что нейронная сеть не учится в принципе.\n",
    "- При постановке эксперментов старайтесь делать минимальное количество изменений за раз (в идеале одно!): только так можно понять, какие конкретно изменения влияют на результат."
   ]
  },
  {
   "cell_type": "markdown",
   "id": "royal-cholesterol",
   "metadata": {
    "id": "royal-cholesterol",
    "pycharm": {
     "name": "#%% md\n"
    }
   },
   "source": [
    "## Часть 2. Улучшаем нейронную сеть\n",
    "\n",
    "Продолжим экспериментировать с нейронной сетью, чтобы добиться еще лучшего качества. В заданиях 2.1-2.3 **запускайте эксперименты несколько раз (4-5)** с одинаковыми значениями гиперпараметров обучения, но с разными случайными инициализациями сети (достаточно просто прогнать код с инициализацией модели и ее обучением в цикле: каждый вызов конструктора инициализирует модель случайно). Для сравнения качества разных экспериментов **отрисовывайте ящики с усами (boxplot)** по этим нескольким запускам.\n",
    "\n",
    "Задание 2.4 требует перебора гиперпараметров, в нем запускайте эксперимент по одному разу для каждого рассмотренного значения, чтобы сэкономить время."
   ]
  },
  {
   "cell_type": "markdown",
   "id": "ignored-active",
   "metadata": {
    "id": "ignored-active",
    "pycharm": {
     "name": "#%% md\n"
    }
   },
   "source": [
    "**Задание 2.1 (1 балл).** Давайте попробуем другие оптимизаторы. Обучите нейросеть с помощью SGD+momentum и Adam. Опишите свои наблюдения и в дальнейших запусках используйте лучший оптимизатор. Для Adam обычно берут learning rate поменьше, в районе $10^{-3}$."
   ]
  },
  {
   "cell_type": "code",
   "execution_count": null,
   "id": "eastern-gnome",
   "metadata": {
    "id": "eastern-gnome",
    "pycharm": {
     "name": "#%%\n"
    }
   },
   "outputs": [],
   "source": [
    "# YOUR CODE HERE (－.－)...zzzZZZzzzZZZ"
   ]
  },
  {
   "cell_type": "markdown",
   "id": "hispanic-postage",
   "metadata": {
    "id": "hispanic-postage",
    "pycharm": {
     "name": "#%% md\n"
    }
   },
   "source": [
    "**Задание 2.2 (1 балл).** Теперь сделаем нашу нейронную сеть более сложной. Попробуйте сделать сеть:\n",
    "\n",
    "- более широкой (то есть увеличить размерность скрытого слоя, например, вдвое)\n",
    "- более глубокой (то есть добавить еще один скрытый слой)\n",
    "\n",
    "Опишите, как увеличение числа параметров модели влияет на качество на обучающей и валидационной выборках."
   ]
  },
  {
   "cell_type": "code",
   "execution_count": null,
   "id": "1d466362",
   "metadata": {
    "id": "1d466362",
    "pycharm": {
     "name": "#%%\n"
    }
   },
   "outputs": [],
   "source": [
    "# YOUR CODE HERE (－.－)...zzzZZZzzzZZZ"
   ]
  },
  {
   "cell_type": "markdown",
   "id": "454acdb1",
   "metadata": {
    "id": "454acdb1",
    "pycharm": {
     "name": "#%% md\n"
    }
   },
   "source": [
    "**Задание 2.3 (1 балл).** Как вы должны были заметить, более сложная модель стала сильнее переобучаться. Попробуем разные методы регуляризации, чтобы бороться с переобучением. Проведите два эксперимента:\n",
    "\n",
    "- Добавьте слой дропаута с параметром $p=0.2$ после каждого линейного слоя, кроме последнего.\n",
    "- Попробуйте batch-нормализацию вместо дропаута. Строго говоря, batch-нормализация не является методом регуляризации, но никто не запрещает нам экспериментировать с ней.\n",
    "\n",
    "Опишите результаты экспериментов."
   ]
  },
  {
   "cell_type": "markdown",
   "id": "9dcbadcc",
   "metadata": {
    "id": "9dcbadcc",
    "pycharm": {
     "name": "#%% md\n"
    }
   },
   "source": [
    "**Задание 2.4 (1.5 балла).** Теперь, когда мы определились с выбором архитектуры нейронной сети, пора заняться рутиной DL-инженера &mdash; перебором гиперпараметров. Подберите оптимальное значение lr по значению MSE на валидации (по логарифмической сетке, достаточно посмотреть 3-4 значения), можете воспользоваться `verbose=False` в функции `train_and_validate`. Затем подберите оптимальное значение weight decay для данного lr (тоже по логарифмической сетке, типичные значения этого параметра лежат в диапазоне $[10^{-6}, 10^{-3}]$, но не забудьте включить нулевое значение в сетку). Постройте графики зависимости MSE на трейне и на валидации от значений параметров. Прокомментируйте получившиеся зависимости."
   ]
  },
  {
   "cell_type": "code",
   "execution_count": null,
   "id": "8UqadoheOQSu",
   "metadata": {
    "id": "8UqadoheOQSu",
    "pycharm": {
     "name": "#%%\n"
    }
   },
   "outputs": [],
   "source": [
    "# YOUR CODE HERE (－.－)...zzzZZZzzzZZZ"
   ]
  },
  {
   "cell_type": "markdown",
   "id": "8nk3dvibo6SE",
   "metadata": {
    "id": "8nk3dvibo6SE",
    "pycharm": {
     "name": "#%% md\n"
    }
   },
   "source": [
    "Как вы могли заметить, еще одна рутина DL-инженера &mdash; утомительное ожидание обучения моделей.\n",
    "\n",
    "**Задание 2.5 (0.5 балла).** Мы провели большое число экспериментов и подобрали оптимальную архитектуру и гиперпараметры. Пришло время обучить модель на полной обучающей выборке, померять качество на тестовой выборке и сравнить с бейзлайнами. Проделайте это."
   ]
  },
  {
   "cell_type": "code",
   "execution_count": null,
   "id": "pR4FJ4PYYajk",
   "metadata": {
    "id": "pR4FJ4PYYajk",
    "pycharm": {
     "name": "#%%\n"
    }
   },
   "outputs": [],
   "source": [
    "# YOUR CODE HERE (－.－)...zzzZZZzzzZZZ"
   ]
  }
 ],
 "metadata": {
  "colab": {
   "provenance": []
  },
  "kernelspec": {
   "display_name": "Python 3 (ipykernel)",
   "language": "python",
   "name": "python3"
  },
  "language_info": {
   "codemirror_mode": {
    "name": "ipython",
    "version": 3
   },
   "file_extension": ".py",
   "mimetype": "text/x-python",
   "name": "python",
   "nbconvert_exporter": "python",
   "pygments_lexer": "ipython3",
   "version": "3.10.4"
  }
 },
 "nbformat": 4,
 "nbformat_minor": 5
}
